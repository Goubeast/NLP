{
  "nbformat": 4,
  "nbformat_minor": 0,
  "metadata": {
    "colab": {
      "name": "Untitled24.ipynb",
      "provenance": [],
      "collapsed_sections": []
    },
    "kernelspec": {
      "name": "python3",
      "display_name": "Python 3"
    }
  },
  "cells": [
    {
      "cell_type": "code",
      "metadata": {
        "id": "jEm0G1__oAva"
      },
      "source": [
        "from __future__ import print_function, division\n",
        "from builtins import range, input\n",
        "\n",
        "import os, sys\n",
        "import keras.backend as K\n",
        "\n",
        "from keras.models import Model\n",
        "from keras.layers import Input, LSTM, GRU, Dense, Embedding\n",
        "from keras.preprocessing.text import Tokenizer\n",
        "from keras.preprocessing.sequence import pad_sequences\n",
        "from keras.utils import to_categorical\n",
        "import numpy as np\n",
        "import matplotlib.pyplot as plt\n"
      ],
      "execution_count": 1,
      "outputs": []
    },
    {
      "cell_type": "code",
      "metadata": {
        "colab": {
          "base_uri": "https://localhost:8080/"
        },
        "id": "egSnT3oPt0iq",
        "outputId": "a2a4d389-5366-41c8-e96f-437122d8cf7e"
      },
      "source": [
        "!wget http://nlp.stanford.edu/data/glove.6B.zip"
      ],
      "execution_count": 19,
      "outputs": [
        {
          "output_type": "stream",
          "text": [
            "--2021-03-11 05:16:51--  http://nlp.stanford.edu/data/glove.6B.zip\n",
            "Resolving nlp.stanford.edu (nlp.stanford.edu)... 171.64.67.140\n",
            "Connecting to nlp.stanford.edu (nlp.stanford.edu)|171.64.67.140|:80... connected.\n",
            "HTTP request sent, awaiting response... 302 Found\n",
            "Location: https://nlp.stanford.edu/data/glove.6B.zip [following]\n",
            "--2021-03-11 05:16:52--  https://nlp.stanford.edu/data/glove.6B.zip\n",
            "Connecting to nlp.stanford.edu (nlp.stanford.edu)|171.64.67.140|:443... connected.\n",
            "HTTP request sent, awaiting response... 301 Moved Permanently\n",
            "Location: http://downloads.cs.stanford.edu/nlp/data/glove.6B.zip [following]\n",
            "--2021-03-11 05:16:52--  http://downloads.cs.stanford.edu/nlp/data/glove.6B.zip\n",
            "Resolving downloads.cs.stanford.edu (downloads.cs.stanford.edu)... 171.64.64.22\n",
            "Connecting to downloads.cs.stanford.edu (downloads.cs.stanford.edu)|171.64.64.22|:80... connected.\n",
            "HTTP request sent, awaiting response... 200 OK\n",
            "Length: 862182613 (822M) [application/zip]\n",
            "Saving to: ‘glove.6B.zip’\n",
            "\n",
            "glove.6B.zip        100%[===================>] 822.24M  4.78MB/s    in 2m 42s  \n",
            "\n",
            "2021-03-11 05:19:34 (5.09 MB/s) - ‘glove.6B.zip’ saved [862182613/862182613]\n",
            "\n"
          ],
          "name": "stdout"
        }
      ]
    },
    {
      "cell_type": "code",
      "metadata": {
        "colab": {
          "base_uri": "https://localhost:8080/"
        },
        "id": "ZDXljFIbt2ct",
        "outputId": "52015e67-b70a-4bfe-8717-940cd5e04c96"
      },
      "source": [
        "!unzip '/content/glove.6B.zip'"
      ],
      "execution_count": 20,
      "outputs": [
        {
          "output_type": "stream",
          "text": [
            "Archive:  /content/glove.6B.zip\n",
            "  inflating: glove.6B.50d.txt        \n",
            "  inflating: glove.6B.100d.txt       \n",
            "  inflating: glove.6B.200d.txt       \n",
            "  inflating: glove.6B.300d.txt       \n"
          ],
          "name": "stdout"
        }
      ]
    },
    {
      "cell_type": "code",
      "metadata": {
        "id": "pOM5na-2oQhV"
      },
      "source": [
        "MAX_SEQUENCE_LENGTH = 100\n",
        "MAX_NUM_WORDS = 20000\n",
        "EMBEDDING_DIM = 100\n",
        "NUM_SAMPLES = 10000\n",
        "VALIDATION_SPLIT = 0.2\n",
        "BATCH_SIZE = 64\n",
        "EPOCHS = 40\n",
        "LATENT_DIM = 256"
      ],
      "execution_count": 2,
      "outputs": []
    },
    {
      "cell_type": "code",
      "metadata": {
        "colab": {
          "base_uri": "https://localhost:8080/"
        },
        "id": "AXCgJhgtoSFE",
        "outputId": "0f1dfe27-67a0-4dc0-9d4e-72af2d8183d5"
      },
      "source": [
        "input_texts = []\n",
        "target_texts = []\n",
        "target_texts_inputs = []\n",
        "\n",
        "t = 0\n",
        "for line in open('/content/spa.txt'):\n",
        "  t += 1\n",
        "  if t > NUM_SAMPLES:\n",
        "    break\n",
        "  if '\\t' not in line:\n",
        "    continue\n",
        "  input_text, translation, *rest = line.rstrip().split('\\t')\n",
        "  target_text = translation + ' <eos>'\n",
        "  target_text_input = '<sos> ' + translation\n",
        "\n",
        "  input_texts.append(input_text)\n",
        "  target_texts.append(target_text)\n",
        "  target_texts_inputs.append(target_text_input)\n",
        "print(len(input_texts))"
      ],
      "execution_count": 22,
      "outputs": [
        {
          "output_type": "stream",
          "text": [
            "10000\n"
          ],
          "name": "stdout"
        }
      ]
    },
    {
      "cell_type": "code",
      "metadata": {
        "id": "0I7IQpt8q5X4"
      },
      "source": [
        "tokenizer_inputs = Tokenizer(num_words = MAX_NUM_WORDS)\n",
        "tokenizer_inputs.fit_on_texts(input_texts)\n",
        "input_sequences = tokenizer_inputs.texts_to_sequences(input_texts)\n",
        "word2idx_inputs = tokenizer_inputs.word_index\n",
        "\n",
        "max_len_input = max(len(s) for s in input_sequences)\n",
        "\n",
        "tokenizer_outputs = Tokenizer(num_words = MAX_NUM_WORDS, filters = '')\n",
        "tokenizer_outputs.fit_on_texts(target_texts + target_texts_inputs)\n",
        "target_sequences = tokenizer_outputs.texts_to_sequences(target_texts)\n",
        "target_sequences_inputs = tokenizer_outputs.texts_to_sequences(target_texts_inputs)\n",
        "word2idx_outputs = tokenizer_outputs.word_index\n",
        "num_words_output = len(word2idx_outputs) + 1\n",
        "max_len_target = max(len(s) for s in target_sequences)\n",
        "\n",
        "encoder_inputs = pad_sequences(input_sequences, maxlen = max_len_input)\n",
        "decoder_inputs = pad_sequences(target_sequences_inputs, maxlen = max_len_target, padding='post')\n",
        "decoder_targets = pad_sequences(target_sequences, maxlen = max_len_target, padding='post')\n"
      ],
      "execution_count": 23,
      "outputs": []
    },
    {
      "cell_type": "code",
      "metadata": {
        "id": "im3EwS8JsyG1"
      },
      "source": [
        "word2vec = {}\n",
        "with open('/content/glove.6B.100d.txt') as f:\n",
        "  for line in f:\n",
        "    values = line.split()\n",
        "    word = values[0]\n",
        "    vec = np.asarray(values[1:], dtype = 'float32')\n",
        "    word2vec[word] = vec\n",
        "\n",
        "num_words = min(MAX_NUM_WORDS, len(word2idx_inputs) + 1)\n",
        "embedding_matrix = np.zeros((num_words, EMBEDDING_DIM))\n",
        "for word, i in word2idx_inputs.items():\n",
        "  if i < MAX_NUM_WORDS:\n",
        "    embedding_vector = word2vec.get(word)\n",
        "    if embedding_vector is not None:\n",
        "      embedding_matrix[i] = embedding_vector\n",
        "    \n",
        "embedding_layer = Embedding(num_words, EMBEDDING_DIM, weights = [embedding_matrix], \n",
        "                            input_length = max_len_input)"
      ],
      "execution_count": 24,
      "outputs": []
    },
    {
      "cell_type": "code",
      "metadata": {
        "id": "MRN8jctJsyBE"
      },
      "source": [
        "decoder_targets_onehot = np.zeros((len(input_texts), max_len_target, num_words_output),\n",
        "                                  dtype = 'float32')\n",
        "for i, d in enumerate(decoder_targets):\n",
        "  for t, word in enumerate(d):\n",
        "    if word != 0:\n",
        "      decoder_targets_onehot[i, t, word] = 1"
      ],
      "execution_count": 25,
      "outputs": []
    },
    {
      "cell_type": "code",
      "metadata": {
        "id": "Z25KzEzexmn7"
      },
      "source": [
        "encoder_inputs_placeholder = Input((max_len_input,))\n",
        "x = embedding_layer(encoder_inputs_placeholder)\n",
        "encoder = LSTM(LATENT_DIM, return_state=True,)\n",
        "encoder_outputs, h, c = encoder(x)\n",
        "encoder_states = [h, c]\n",
        "decoder_inputs_placeholder = Input((max_len_target,))\n",
        "decoder_embedding = Embedding(num_words_output, EMBEDDING_DIM)\n",
        "decoder_inputs_x = decoder_embedding(decoder_inputs_placeholder)\n",
        "decoder_lstm = LSTM(LATENT_DIM, return_sequences=True, return_state=True,)\n",
        "decoder_outputs, _, _ = decoder_lstm(decoder_inputs_x, initial_state = encoder_states)\n",
        "decoder_dense = Dense(num_words_output, activation = 'softmax')\n",
        "decoder_outputs = decoder_dense(decoder_outputs)\n",
        "\n",
        "model = Model([encoder_inputs_placeholder, decoder_inputs_placeholder], decoder_outputs)"
      ],
      "execution_count": 34,
      "outputs": []
    },
    {
      "cell_type": "code",
      "metadata": {
        "id": "NwLo58u1zQ1I"
      },
      "source": [
        "def custom_loss(y_true, y_pred):\n",
        "  mask = K.cast(y_true > 0, dtype = 'float32')\n",
        "  out = mask * y_true * K.log(y_pred)\n",
        "  return -K.sum(out) / K.sum(mask)\n",
        "\n",
        "def acc(y_true, y_pred):\n",
        "  targ = K.argmax(y_true, axis=-1)\n",
        "  pred = K.argmax(y_pred, axis=-1)\n",
        "  correct = K.cast(K.equal(targ, pred), dtype='float32')\n",
        "\n",
        "  mask = K.cast(K.greater(targ, 0), dtype='float32')\n",
        "  n_correct = K.sum(mask * correct)\n",
        "  n_total = K.sum(mask)\n",
        "  return n_correct / n_total\n",
        "\n",
        "model.compile(optimizer='adam', loss=custom_loss, metrics=[acc])"
      ],
      "execution_count": 35,
      "outputs": []
    },
    {
      "cell_type": "code",
      "metadata": {
        "colab": {
          "base_uri": "https://localhost:8080/"
        },
        "id": "V4pWpW7Y13_k",
        "outputId": "0dc6de82-7c94-4390-ab3f-28f09954f051"
      },
      "source": [
        "r = model.fit([encoder_inputs, decoder_inputs], decoder_targets_onehot,\n",
        "              batch_size = BATCH_SIZE, epochs = EPOCHS, validation_split = 0.2)"
      ],
      "execution_count": 36,
      "outputs": [
        {
          "output_type": "stream",
          "text": [
            "Epoch 1/40\n",
            "125/125 [==============================] - 64s 488ms/step - loss: 6.6730 - acc: 0.2602 - val_loss: 5.6467 - val_acc: 0.2526\n",
            "Epoch 2/40\n",
            "125/125 [==============================] - 59s 474ms/step - loss: 4.8979 - acc: 0.3030 - val_loss: 5.3860 - val_acc: 0.2721\n",
            "Epoch 3/40\n",
            "125/125 [==============================] - 59s 473ms/step - loss: 4.4304 - acc: 0.3358 - val_loss: 5.1435 - val_acc: 0.3176\n",
            "Epoch 4/40\n",
            "125/125 [==============================] - 59s 476ms/step - loss: 3.9921 - acc: 0.3897 - val_loss: 4.9801 - val_acc: 0.3522\n",
            "Epoch 5/40\n",
            "125/125 [==============================] - 60s 479ms/step - loss: 3.5855 - acc: 0.4377 - val_loss: 4.8655 - val_acc: 0.3743\n",
            "Epoch 6/40\n",
            "125/125 [==============================] - 60s 483ms/step - loss: 3.2427 - acc: 0.4639 - val_loss: 4.7687 - val_acc: 0.3953\n",
            "Epoch 7/40\n",
            "125/125 [==============================] - 60s 477ms/step - loss: 2.9549 - acc: 0.4962 - val_loss: 4.7213 - val_acc: 0.4062\n",
            "Epoch 8/40\n",
            "125/125 [==============================] - 59s 475ms/step - loss: 2.6987 - acc: 0.5189 - val_loss: 4.6877 - val_acc: 0.4163\n",
            "Epoch 9/40\n",
            "125/125 [==============================] - 59s 474ms/step - loss: 2.4627 - acc: 0.5454 - val_loss: 4.6678 - val_acc: 0.4257\n",
            "Epoch 10/40\n",
            "125/125 [==============================] - 60s 480ms/step - loss: 2.2271 - acc: 0.5739 - val_loss: 4.6477 - val_acc: 0.4264\n",
            "Epoch 11/40\n",
            "125/125 [==============================] - 60s 478ms/step - loss: 2.0042 - acc: 0.5996 - val_loss: 4.6779 - val_acc: 0.4288\n",
            "Epoch 12/40\n",
            "125/125 [==============================] - 59s 475ms/step - loss: 1.8212 - acc: 0.6277 - val_loss: 4.6870 - val_acc: 0.4247\n",
            "Epoch 13/40\n",
            "125/125 [==============================] - 59s 475ms/step - loss: 1.6589 - acc: 0.6502 - val_loss: 4.7203 - val_acc: 0.4249\n",
            "Epoch 14/40\n",
            "125/125 [==============================] - 60s 477ms/step - loss: 1.4918 - acc: 0.6835 - val_loss: 4.7316 - val_acc: 0.4226\n",
            "Epoch 15/40\n",
            "125/125 [==============================] - 59s 475ms/step - loss: 1.3330 - acc: 0.7125 - val_loss: 4.7519 - val_acc: 0.4205\n",
            "Epoch 16/40\n",
            "125/125 [==============================] - 59s 476ms/step - loss: 1.2031 - acc: 0.7400 - val_loss: 4.7756 - val_acc: 0.4245\n",
            "Epoch 17/40\n",
            "125/125 [==============================] - 60s 477ms/step - loss: 1.0834 - acc: 0.7630 - val_loss: 4.8159 - val_acc: 0.4219\n",
            "Epoch 18/40\n",
            "125/125 [==============================] - 60s 476ms/step - loss: 0.9693 - acc: 0.7897 - val_loss: 4.8254 - val_acc: 0.4232\n",
            "Epoch 19/40\n",
            "125/125 [==============================] - 59s 476ms/step - loss: 0.8759 - acc: 0.8101 - val_loss: 4.8508 - val_acc: 0.4239\n",
            "Epoch 20/40\n",
            "125/125 [==============================] - 60s 482ms/step - loss: 0.7918 - acc: 0.8253 - val_loss: 4.8946 - val_acc: 0.4229\n",
            "Epoch 21/40\n",
            "125/125 [==============================] - 60s 478ms/step - loss: 0.7195 - acc: 0.8372 - val_loss: 4.8945 - val_acc: 0.4257\n",
            "Epoch 22/40\n",
            "125/125 [==============================] - 60s 483ms/step - loss: 0.6560 - acc: 0.8494 - val_loss: 4.9406 - val_acc: 0.4256\n",
            "Epoch 23/40\n",
            "125/125 [==============================] - 60s 477ms/step - loss: 0.5963 - acc: 0.8591 - val_loss: 5.0008 - val_acc: 0.4228\n",
            "Epoch 24/40\n",
            "125/125 [==============================] - 60s 479ms/step - loss: 0.5504 - acc: 0.8679 - val_loss: 4.9983 - val_acc: 0.4198\n",
            "Epoch 25/40\n",
            "125/125 [==============================] - 60s 483ms/step - loss: 0.5077 - acc: 0.8727 - val_loss: 5.0257 - val_acc: 0.4237\n",
            "Epoch 26/40\n",
            "125/125 [==============================] - 60s 482ms/step - loss: 0.4700 - acc: 0.8755 - val_loss: 5.0567 - val_acc: 0.4156\n",
            "Epoch 27/40\n",
            "125/125 [==============================] - 60s 480ms/step - loss: 0.4399 - acc: 0.8823 - val_loss: 5.0761 - val_acc: 0.4191\n",
            "Epoch 28/40\n",
            "125/125 [==============================] - 60s 482ms/step - loss: 0.4119 - acc: 0.8845 - val_loss: 5.1074 - val_acc: 0.4196\n",
            "Epoch 29/40\n",
            "125/125 [==============================] - 60s 482ms/step - loss: 0.3857 - acc: 0.8873 - val_loss: 5.0991 - val_acc: 0.4207\n",
            "Epoch 30/40\n",
            "125/125 [==============================] - 61s 485ms/step - loss: 0.3727 - acc: 0.8869 - val_loss: 5.1320 - val_acc: 0.4207\n",
            "Epoch 31/40\n",
            "125/125 [==============================] - 60s 483ms/step - loss: 0.3486 - acc: 0.8908 - val_loss: 5.1599 - val_acc: 0.4206\n",
            "Epoch 32/40\n",
            "125/125 [==============================] - 60s 480ms/step - loss: 0.3356 - acc: 0.8895 - val_loss: 5.1891 - val_acc: 0.4186\n",
            "Epoch 33/40\n",
            "125/125 [==============================] - 60s 482ms/step - loss: 0.3155 - acc: 0.8954 - val_loss: 5.2195 - val_acc: 0.4188\n",
            "Epoch 34/40\n",
            "125/125 [==============================] - 60s 481ms/step - loss: 0.3067 - acc: 0.8983 - val_loss: 5.1967 - val_acc: 0.4163\n",
            "Epoch 35/40\n",
            "125/125 [==============================] - 60s 477ms/step - loss: 0.2947 - acc: 0.8971 - val_loss: 5.2529 - val_acc: 0.4160\n",
            "Epoch 36/40\n",
            "125/125 [==============================] - 59s 474ms/step - loss: 0.2878 - acc: 0.8929 - val_loss: 5.2511 - val_acc: 0.4182\n",
            "Epoch 37/40\n",
            "125/125 [==============================] - 59s 474ms/step - loss: 0.2759 - acc: 0.8968 - val_loss: 5.2957 - val_acc: 0.4162\n",
            "Epoch 38/40\n",
            "125/125 [==============================] - 60s 478ms/step - loss: 0.2664 - acc: 0.8976 - val_loss: 5.2874 - val_acc: 0.4174\n",
            "Epoch 39/40\n",
            "125/125 [==============================] - 60s 476ms/step - loss: 0.2580 - acc: 0.9011 - val_loss: 5.3230 - val_acc: 0.4162\n",
            "Epoch 40/40\n",
            "125/125 [==============================] - 60s 477ms/step - loss: 0.2560 - acc: 0.8988 - val_loss: 5.3334 - val_acc: 0.4194\n"
          ],
          "name": "stdout"
        }
      ]
    },
    {
      "cell_type": "code",
      "metadata": {
        "colab": {
          "base_uri": "https://localhost:8080/",
          "height": 265
        },
        "id": "GjAcpJ3w18kU",
        "outputId": "e1482417-73cc-4d1d-dbc6-38ed1ca82b4e"
      },
      "source": [
        "plt.plot(r.history['loss'], label='loss')\n",
        "plt.plot(r.history['val_loss'], label='val_loss')\n",
        "plt.legend()\n",
        "plt.show()"
      ],
      "execution_count": 37,
      "outputs": [
        {
          "output_type": "display_data",
          "data": {
            "image/png": "[encoded data removed]",
            "text/plain": [
              "<Figure size 432x288 with 1 Axes>"
            ]
          },
          "metadata": {
            "tags": [],
            "needs_background": "light"
          }
        }
      ]
    },
    {
      "cell_type": "code",
      "metadata": {
        "colab": {
          "base_uri": "https://localhost:8080/",
          "height": 265
        },
        "id": "9VSDrq4z3CCg",
        "outputId": "701ea2ef-195e-4992-c891-efc5e451bed5"
      },
      "source": [
        "model.save('s2s.h5')\n",
        "plt.plot(r.history['acc'], label='acc')\n",
        "plt.plot(r.history['val_acc'], label='val_acc')\n",
        "plt.legend()\n",
        "plt.show()"
      ],
      "execution_count": 38,
      "outputs": [
        {
          "output_type": "display_data",
          "data": {
            "image/png": "[encoded data removed]",
            "text/plain": [
              "<Figure size 432x288 with 1 Axes>"
            ]
          },
          "metadata": {
            "tags": [],
            "needs_background": "light"
          }
        }
      ]
    },
    {
      "cell_type": "code",
      "metadata": {
        "id": "o29cFerFaHjy"
      },
      "source": [
        "encoder_model = Model(encoder_inputs_placeholder, encoder_states)\n",
        "decoder_stateinput_h = Input((LATENT_DIM,))\n",
        "decoder_stateinput_c = Input((LATENT_DIM,))\n",
        "decoder_states_inputs = [decoder_stateinput_h, decoder_stateinput_c]\n",
        "\n",
        "decoder_inputs_single = Input((1,))\n",
        "decoder_inputs_single_x = decoder_embedding(decoder_inputs_single)\n",
        "\n",
        "decoder_outputs, h, c = decoder_lstm(decoder_inputs_single_x, \n",
        "                                     initial_state=decoder_states_inputs)\n",
        "decoder_states = [h, c]\n",
        "decoder_outputs = decoder_dense(decoder_outputs)\n",
        "\n",
        "decoder_model = Model([decoder_inputs_single] + decoder_states_inputs, \n",
        "                      [decoder_outputs] + decoder_states)\n",
        "idx2word_eng = {v:k for k, v in word2idx_inputs.items()}\n",
        "idx2word_trans = {v:k for k, v in word2idx_outputs.items()}\n",
        "\n",
        "def decode_sequence(input_seq):\n",
        "  states_value = encoder_model.predict(input_seq)\n",
        "\n",
        "  target_seq = np.zeros((1, 1))\n",
        "  target_seq[0, 0] = word2idx_outputs['<sos>']\n",
        "\n",
        "  eos = word2idx_outputs['<eos>']\n",
        "\n",
        "  output_sentence = []\n",
        "  for _ in range(max_len_target):\n",
        "    output_tokens, h, c = decoder_model.predict([target_seq] + states_value)\n",
        "\n",
        "    idx = np.argmax(output_tokens[0, 0, :])\n",
        "    if eos == idx:\n",
        "      break\n",
        "\n",
        "    word = ''\n",
        "    if idx > 0:\n",
        "      word = idx2word_trans[idx]\n",
        "      output_sentence.append(word)\n",
        "\n",
        "    target_seq[0, 0] = idx\n",
        "    states_value = [h, c]\n",
        "\n",
        "  return ' '.join(output_sentence)\n"
      ],
      "execution_count": 39,
      "outputs": []
    },
    {
      "cell_type": "code",
      "metadata": {
        "colab": {
          "base_uri": "https://localhost:8080/"
        },
        "id": "tqSmTQ02bM85",
        "outputId": "db6424b5-d639-40d7-f42f-2cb7af9df16f"
      },
      "source": [
        "while True:\n",
        "  i = np.random.choice(len(input_texts))\n",
        "  input_seq = encoder_inputs[i:i+1]\n",
        "  translation = decode_sequence(input_seq)\n",
        "  print('-')\n",
        "  print('Input:', input_texts[i])\n",
        "  print('Translation:', translation)\n",
        "\n",
        "  ans = input(\"Continue? [Y/n]\")\n",
        "  if ans and ans.lower().startswith('n'):\n",
        "    break"
      ],
      "execution_count": 40,
      "outputs": [
        {
          "output_type": "stream",
          "text": [
            "-\n",
            "Input: I failed.\n",
            "Translation: fallé.\n",
            "Continue? [Y/n]y\n",
            "-\n",
            "Input: I hate insects.\n",
            "Translation: odio a los insectos.\n",
            "Continue? [Y/n]y\n",
            "-\n",
            "Input: You go first.\n",
            "Translation: tú primero.\n",
            "Continue? [Y/n]y\n",
            "-\n",
            "Input: I miss it.\n",
            "Translation: lo echo de menos.\n",
            "Continue? [Y/n]n\n"
          ],
          "name": "stdout"
        }
      ]
    }
  ]
}